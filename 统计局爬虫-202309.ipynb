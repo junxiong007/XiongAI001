{
 "cells": [
  {
   "cell_type": "code",
   "execution_count": 1,
   "id": "45a8d29f",
   "metadata": {},
   "outputs": [],
   "source": [
    "#from jqdata import *\n",
    "%matplotlib inline \n",
    "\n",
    "import requests\n",
    "import time\n",
    "import json\n",
    "import matplotlib.pyplot as plt\n",
    "import seaborn as sns\n",
    "import pandas as pd\n",
    "import datetime\n",
    "import warnings\n",
    "import talib\n",
    "import os\n",
    "from numba import *\n",
    "import numpy as np\n",
    "import matplotlib as mpl\n",
    "import statsmodels.api as sm\n",
    "\n",
    "warnings.filterwarnings('ignore')\n",
    "\n",
    "plt.style.use('seaborn-whitegrid')\n",
    "plt.rcParams['font.sans-serif'] = ['SimHei']  # 中文字体设置-黑体\n",
    "plt.rcParams['axes.unicode_minus'] = False  # 解决保存图像是负号'-'显示为方块的问题\n",
    "\n",
    "pd.set_option('display.width', 21250)\n",
    "pd.set_option('display.max_columns', 21250)"
   ]
  },
  {
   "cell_type": "code",
   "execution_count": 2,
   "id": "6113a3c5",
   "metadata": {},
   "outputs": [],
   "source": [
    "import requests\n",
    "import numpy as np\n",
    "import pandas as pd\n",
    "from bs4 import BeautifulSoup\n",
    "import time\n",
    "import json\n",
    " "
   ]
  },
  {
   "cell_type": "code",
   "execution_count": 3,
   "id": "0ab99d8c",
   "metadata": {},
   "outputs": [
    {
     "ename": "FileExistsError",
     "evalue": "[WinError 183] 当文件已存在时，无法创建该文件。: 'D:\\\\国家统计局\\\\国家统计局年度数据'",
     "output_type": "error",
     "traceback": [
      "\u001b[1;31m---------------------------------------------------------------------------\u001b[0m",
      "\u001b[1;31mFileExistsError\u001b[0m                           Traceback (most recent call last)",
      "\u001b[1;32m~\\AppData\\Local\\Temp\\ipykernel_11396\\698710777.py\u001b[0m in \u001b[0;36m<module>\u001b[1;34m\u001b[0m\n\u001b[0;32m      4\u001b[0m    \u001b[0mos\u001b[0m\u001b[1;33m.\u001b[0m\u001b[0mmkdir\u001b[0m\u001b[1;33m(\u001b[0m\u001b[0mparent_path\u001b[0m\u001b[1;33m)\u001b[0m\u001b[1;33m\u001b[0m\u001b[1;33m\u001b[0m\u001b[0m\n\u001b[0;32m      5\u001b[0m \u001b[1;33m\u001b[0m\u001b[0m\n\u001b[1;32m----> 6\u001b[1;33m \u001b[0mos\u001b[0m\u001b[1;33m.\u001b[0m\u001b[0mmkdir\u001b[0m\u001b[1;33m(\u001b[0m\u001b[0mos\u001b[0m\u001b[1;33m.\u001b[0m\u001b[0mpath\u001b[0m\u001b[1;33m.\u001b[0m\u001b[0mjoin\u001b[0m\u001b[1;33m(\u001b[0m\u001b[0mparent_path\u001b[0m\u001b[1;33m,\u001b[0m \u001b[1;34m\"国家统计局年度数据\"\u001b[0m\u001b[1;33m)\u001b[0m\u001b[1;33m)\u001b[0m\u001b[1;33m\u001b[0m\u001b[1;33m\u001b[0m\u001b[0m\n\u001b[0m",
      "\u001b[1;31mFileExistsError\u001b[0m: [WinError 183] 当文件已存在时，无法创建该文件。: 'D:\\\\国家统计局\\\\国家统计局年度数据'"
     ]
    }
   ],
   "source": [
    "parent_path = \"D:\\\\国家统计局\" \n",
    "\n",
    "if not os.path.exists(parent_path):\n",
    "   os.mkdir(parent_path)\n",
    "\n",
    "os.mkdir(os.path.join(parent_path, \"国家统计局月度数据\"))"
   ]
  },
  {
   "cell_type": "markdown",
   "id": "638ab2b0",
   "metadata": {},
   "source": [
    "# 使用driver"
   ]
  },
  {
   "cell_type": "code",
   "execution_count": 4,
   "id": "a86ac9ad",
   "metadata": {},
   "outputs": [],
   "source": [
    "from selenium import webdriver\n",
    "import time\n",
    "import re"
   ]
  },
  {
   "cell_type": "code",
   "execution_count": 5,
   "id": "67cbe16f",
   "metadata": {},
   "outputs": [],
   "source": [
    "from selenium import webdriver\n",
    "#url=\"https://data.stats.gov.cn/easyquery.htm?cn=A01&zb=A020914&sj=202308\"\n",
    "url=\"https://www.baidu.com/\"\n",
    "browser = webdriver.Chrome()\n",
    "browser.get(url)"
   ]
  },
  {
   "cell_type": "markdown",
   "id": "78a9f4f0",
   "metadata": {},
   "source": [
    "<button id=\"details-button\" class=\"secondary-button small-link\" aria-expanded=\"false\">\n",
    "        高级\n",
    "      </button>\n",
    "      \n",
    "      \n",
    "<a href=\"#\" id=\"proceed-link\" class=\"small-link\">继续前往data.stats.gov.cn（不安全）</a>"
   ]
  },
  {
   "cell_type": "code",
   "execution_count": 6,
   "id": "8225f241",
   "metadata": {
    "scrolled": true
   },
   "outputs": [
    {
     "data": {
      "text/plain": [
       "'<html><head>\\n<meta charset=\"utf-8\">\\n\\n\\n\\n\\n\\n\\n<script id=\"allmobilize\" charset=\"utf-8\" src=\"http://a.yunshipei.com/3cf4bf099041a90552a48c9d178339b6/allmobilize.min.js\"></script>\\n<meta http-equiv=\"Cache-Control\" content=\"no-siteapp\">\\n<meta name=\"format-detection\" content=\"telephone=no,email=no,address=no\">\\n<link rel=\"alternate\" media=\"handheld\" href=\"#\">\\n\\n<link rel=\"shortcut icon\" href=\"/images/favourite.ico\">\\n<link rel=\"stylesheet\" type=\"text/css\" href=\"/css/base.css\">\\n<link rel=\"stylesheet\" type=\"text/css\" href=\"/css/main.css\">\\n<!--高级查询样式-->\\n<link rel=\"stylesheet\" type=\"text/css\" href=\"/css/high.css\">\\n<link rel=\"stylesheet\" type=\"text/css\" href=\"/js/nav/nav.css\">\\n<!--树控件样式-->\\n<link rel=\"stylesheet\" type=\"text/css\" href=\"/js/ztree/zTreeStyle/zTreeStyle.css\">\\n<!--弹窗样式-->\\n<link rel=\"stylesheet\" type=\"text/css\" href=\"/js/tips/css/tips.css\">\\n<!--下拉样式-->\\n<link rel=\"stylesheet\" type=\"text/css\" href=\"/js/dropList/css/dropList.css\">\\n\\n<script type=\"text/javascript\">\\nvar ctx=\"\";\\n</script>\\n<script type=\"text/javascript\" src=\"/js/jquery.min.js\"></script>\\n<script type=\"text/javascript\" src=\"/js/count/json2.js\"></script>\\n<script type=\"text/javascript\" src=\"/js/nav/nav.js\"></script>\\n\\n<!--引入树控件-->\\n<script type=\"text/javascript\" src=\"/js/ztree/js/jquery.ztree.core-3.5.js\"></script>\\n<script type=\"text/javascript\" src=\"/js/ztree/jquery.ytree.js\"></script>\\n\\n<!--手风琴-->\\n<script type=\"text/javascript\" src=\"/js/jquery-Accordion.js\"></script>\\n<!--分栏拖拽-->\\n<script type=\"text/javascript\" src=\"/js/jquery-ySplitbar.js\"></script>\\n<!-- js通用方法  存放一些常使用的工具函数 -->\\n<script type=\"text/javascript\" src=\"/js/common.js\"></script>\\n<!-- 打印 -->\\n<script type=\"text/javascript\" src=\"/js/print/jquery.PrintArea.js\"></script>\\n\\n<script type=\"text/javascript\" src=\"/js/dropList/js/dropList.js\"></script>\\n<!-- 下载 -->\\n<script type=\"text/javascript\" src=\"/js/download.js\"></script>\\n<script type=\"text/JavaScript\" src=\"/js/md5.js\"></script>\\n<link rel=\"stylesheet\" type=\"text/css\" href=\"/js/chart/css/spectrum.css\">\\n<link rel=\"stylesheet\" type=\"text/css\" href=\"/css/easyquery.css\">\\n<script type=\"text/javascript\" src=\"/js/loginBox.js\"></script>\\n<!--编辑,添加指标，筛选html-->\\n<script type=\"text/javascript\" src=\"/js/tipsDiv.js\"></script>\\n<!--弹窗-->\\n<script type=\"text/javascript\" src=\"/js/tips/js/jquery.zclip.min.js\"></script>\\n<script type=\"text/javascript\" src=\"/js/tips/js/tipsBox.js\"></script>\\n<!--锁定表头-->\\n<script type=\"text/javascript\" src=\"/js/jquery.lock.js\"></script>\\n\\n<!-- 公共js -->\\n<script type=\"text/javascript\" src=\"/js/main.js\"></script>\\n<script type=\"text/javascript\" src=\"/js/cubetable.js\"></script>\\n\\n<!--简单查询js-->\\n<script type=\"text/javascript\" src=\"/js/easyquery.js\"></script>\\n\\n<!--收藏-->\\n<script type=\"text/javascript\" src=\"/js/favorite/favoritePop.js\"></script>\\n<script type=\"text/javascript\" src=\"/js/favorite/favoriteAdd.js\"></script>\\n<script type=\"text/javascript\" src=\"/js/ztree/js/jquery.ztree.exedit-3.5.min.js\"></script>\\n<script type=\"text/javascript\" src=\"/js/chart/js/spectrum.js\"></script>\\n<script type=\"text/javascript\" src=\"/js/clipboard.min.js\"></script>\\n<!-- 分享 -->\\n<script type=\"text/javascript\" src=\"/js/share/sharediv.js\"></script>\\n\\n<title>国家数据</title>\\n</head>\\n<body>\\n\\t<!--打印div-->\\n\\t<div style=\"display:none;\">\\n\\t\\t<div id=\"printContent\"></div>\\n\\t</div>\\n<!--页眉-->\\n<!-- 2015/1/12 13:17 -->\\n\\n\\n\\n\\n\\n\\n\\n\\n\\n<div class=\"tc experience\" style=\"left: 13px; display: block;\">为了获得更好的用户体验，请使用火狐、谷歌、360浏览器极速模式或IE9及以上版本的浏览器。<em class=\"close\"></em></div>\\n\\n<!--页眉-->\\n<div id=\"top\">\\n\\t\\n    <div class=\"top-wrap\">\\n        <div class=\"t-right mr5\">\\n            <ul>\\n            \\t\\n                <li><a href=\"/login.htm\">登录</a></li>\\n\\t\\t\\t\\t<li class=\"line\"></li>\\n                <li><a href=\"/login.htm?m=toRegister\">注册</a></li>\\n                \\n\\t\\t\\t\\t<li class=\"line\"></li>\\n\\t\\t\\t\\t<li><a href=\"/english\">English</a></li>\\n            </ul>\\n        </div>\\n    </div>\\n</div>\\n<div id=\"header\">\\n    <h1>国家数据</h1>\\n    \\n\\t<!--nav start-->\\n\\t<div id=\"nav\">\\n\\t\\t<ul>\\n\\t\\t\\t<li><a href=\"/index.htm\"><span class=\"first\">首页</span></a></li>\\n\\t\\t\\t<li><a href=\"/easyquery.htm?cn=A01\">月度数据</a></li>\\n\\n<li><a href=\"/easyquery.htm?cn=B01\">季度数据</a></li>\\n\\n<li><a href=\"/easyquery.htm?cn=C01\">年度数据</a></li>\\n\\n<li><a href=\"http://www.stats.gov.cn/sj/pcsj/\" target=\"_blank\">普查数据</a></li>\\n\\n<li><a rel=\"menuE01\">地区数据<img src=\"js/nav/images/arrow-down.gif\" class=\"downarrowpointer\" style=\"width: 9px; height: 6px;\"></a></li>\\n\\n<li><a href=\"/staticreq.htm\">部门数据</a></li>\\n\\n<li><a rel=\"menuG01\">国际数据<img src=\"js/nav/images/arrow-down.gif\" class=\"downarrowpointer\" style=\"width: 9px; height: 6px;\"></a></li>\\n\\n<li><a href=\"/vchart.htm\">可视化产品</a></li>\\n\\n<li><a href=\"/publish.htm?sort=1\">出版物</a></li>\\n\\n<li><a href=\"/favorite.htm\">我的收藏</a></li>\\n\\n<li class=\"last\"><a href=\"/ifnormal.htm?m=help&amp;u=/files/html/help/help.html&amp;h=690\">帮助</a></li>\\n\\n\\n\\t\\t</ul>\\n\\t</div>\\n\\t\\n\\n\\n\\t<!-- nav end-->\\n\\t\\n    <div class=\"top-search\">\\n    \\t<span class=\"search-img-title\"><a href=\"/search.htm\"><img style=\"\" src=\"/images/shuku.jpg\"></a></span>\\n        <input type=\"text\" value=\"如：2012年 北京 GDP\" maxlength=\"60\" class=\"search-text\" id=\"keyword\">\\n       <input type=\"button\" value=\"搜索\" class=\"search-btn\" onclick=\"search()\">\\n       <span class=\"img\"></span>\\n    </div>\\n    \\n    <div class=\"keyword\">\\n\\t\\t<ul class=\"hot-index-container\">\\n\\t\\t\\t\\n\\t\\t\\t<li><a href=\"/search.htm?s=GDP\">GDP</a></li>\\n\\t\\t\\t\\n\\t\\t\\t<li><a href=\"/search.htm?s=CPI\">CPI</a></li>\\n\\t\\t\\t\\n\\t\\t\\t<li><a href=\"/search.htm?s=总人口\">总人口</a></li>\\n\\t\\t\\t\\n\\t\\t\\t<li><a href=\"/search.htm?s=社会消费品零售总额\">社会消费品零售总额</a></li>\\n\\t\\t\\t\\n\\t\\t\\t<li><a href=\"/search.htm?s=粮食产量\">粮食产量</a></li>\\n\\t\\t\\t\\n\\t\\t\\t<li><a href=\"/search.htm?s=PMI\">PMI</a></li>\\n\\t\\t\\t\\n\\t\\t\\t<li><a href=\"/search.htm?s=PPI\">PPI</a></li>\\n\\t\\t\\t\\n\\t\\t\\t<li><a href=\"/search.htm?s=城镇居民人均可支配收入\">城镇居民人均可支配收入</a></li>\\n\\t\\t\\t\\n\\t\\t\\t<li><a href=\"/search.htm?s=农村居民家庭人均纯收入\">农村居民家庭人均纯收入</a></li>\\n\\t\\t\\t\\n\\t\\t\\t<li><a href=\"/search.htm?s=城镇居民人均现金消费支出\">城镇居民人均现金消费支出</a></li>\\n\\t\\t\\t\\n\\t\\t\\t<li><a href=\"/search.htm?s=人口\">人口</a></li>\\n\\t\\t\\t\\n\\t\\t\\t<li><a href=\"/search.htm?s=gdp\">gdp</a></li>\\n\\t\\t\\t\\n\\t\\t\\t<li><a href=\"/search.htm?s=房价\">房价</a></li>\\n\\t\\t\\t\\n\\t\\t\\t<li><a href=\"/search.htm?s=房地产\">房地产</a></li>\\n\\t\\t\\t\\n\\t\\t\\t<li><a href=\"/search.htm?s=??????\">??????</a></li>\\n\\t\\t\\t\\n\\t\\t\\t<li><a href=\"/search.htm?s=国内生产总值\">国内生产总值</a></li>\\n\\t\\t\\t\\n\\t\\t\\t<li><a href=\"/search.htm?s=工业增加值\">工业增加值</a></li>\\n\\t\\t\\t\\n\\t\\t\\t<li><a href=\"/search.htm?s=cpi\">cpi</a></li>\\n\\t\\t\\t\\n\\t\\t\\t<li><a href=\"/search.htm?s=失业率\">失业率</a></li>\\n\\t\\t\\t\\n\\t\\t</ul>\\n\\t</div>\\n\\t\\n</div>\\n<script type=\"text/javascript\">\\n\\tautoExperience();\\n\\tfunction autoExperience(){\\n\\t\\tvar _l = Math.ceil( $(\"#header\").offset().left );\\n\\t\\t$(\".experience\").css({left:_l});\\n\\t}\\n\\tif($.cookie(\"experience\") != \"show\"){\\n\\t\\t$(\".experience\").show();\\n\\t}\\n\\t\\n\\tfunction search() {\\n\\t\\tvar str = $(\"#keyword\").val();\\n\\t\\tif ($.trim(str) != \"\" && str != \"如：2012年 北京 GDP\") {\\n\\t\\t\\twindow.location = \"/search.htm?s=\" + str;\\n\\t\\t}else{\\n\\t\\t\\twindow.location = \"/search.htm\";\\n\\t\\t}\\n\\t}\\n\\t$(\"#keyword\").focus(function(){\\n\\t\\t$(this).val() == \"如：2012年 北京 GDP\" && $(this).val(\"\");\\n\\t}).blur(function(){\\n\\t\\t$.trim($(\"#keyword\").val()) == \"\" && $(this).val(\"如：2012年 北京 GDP\");\\n\\t}).keydown(function(e){\\n\\t\\te.keyCode == 13 && search();\\n\\t});\\n</script>\\n\\n<script type=\"text/javascript\">\\n$(function() {\\n\\t/*导航菜单*/\\n\\tmenu(\"nav\", \"navbar\");\\n\\tautoExperience();\\n\\t$(window).resize(function(){\\n\\t\\tautoExperience();\\n\\t});\\n\\t$(\".experience .close\").click(function(){\\n\\t\\t$(this).parent().hide();\\n\\t\\t$.cookie(\"experience\",\"show\");\\n\\t});\\n\\n\\t$(document).on(\\'click\\', \\'.ierr\\', function(event){\\n        event.preventDefault();\\n        var curURL = encodeURIComponent(window.location.href);\\n        var resultURL = $(this).prop(\\'href\\');\\n        window.open(resultURL + \\'&url=\\' + curURL);\\n\\t});\\n});\\n</script>\\n<!-- 引入自己页面的js文件及js功能代码 -->\\n<script type=\"text/javascript\">\\n\\tvar drawChart = new cubetable();\\n\\tdrawChart.DbCode(\"hgyd\");\\n\\tdrawChart.RowCode(\"zb\");\\n\\tdrawChart.ColCode(\"sj\");\\n\\tvar ifautodelblanksj=true;\\n\\tvar zbpath=[\"zb\",\"A02\",\"A0209\"];\\n\\tvar zbcode=\"A020914\";\\n\\tvar rootTree = \\'[{\"dbcode\":\"hgyd\",\"id\":\"zb\",\"isParent\":true,\"name\":\"指标\",\"pid\":\"0\",\"wdcode\":\"zb\"}]\\';\\n\\tif (rootTree != \"\" && rootTree != \"[]\"){\\n\\t\\trootTree = eval(\\'(\\' + rootTree + \\')\\');\\n\\t} else {\\n\\t\\trootTree = [];\\n\\t}\\n\\t\\n\\t//恢复收藏夹全局变量\\n\\tvar reAcriontStr = \\'\\';\\t\\n\\t// 下拉对象数组\\n\\tvar droplist = [];\\n\\t\\n\\t//锁定表头\\n\\tvar lockTable;\\n\\n\\t//收藏参数\\n\\tvar actionStr=\"\";\\n\\tvar dbCode=\"\";\\n\\tvar code=\"\";\\n\\tvar wds=\"\";\\n\\tvar cparams=\"\";\\n\\tvar currentName=\"\";\\n\\tvar isDefault = true;\\n\\t\\n\\t//复制\\n\\tfunction copyTable(tableId){\\n\\t\\tvar ifCheckbox = $(\"#initIndexCharts\").is(\":visible\");\\n\\t\\tvar thead = $(\"#\"+tableId+\" thead\");\\n\\t\\tvar data=\"\";\\n\\t\\tfor (var i=0;i<droplist.length;i++){\\n\\t\\t\\tvar dp = droplist[i];\\n\\t\\t\\tdata+=dp.find(\".wdName\").text();\\n\\t\\t\\tdata+=dp.getItem().name;\\n\\t\\t\\tdata+=\\'\\\\t\\';\\n\\t\\t\\t//alert(dp.getItem().name);\\n\\t\\t\\t//alert(dp.find(\".wdName\").text());\\n\\t\\t}\\n\\t\\tdata+=\"\\\\n\";\\n\\t\\t//取表头信息\\n\\t\\tfor(var i=0;i<$(thead).find(\"tr\").length;i++){\\n\\t\\t\\tif (ifCheckbox && i==1) {\\n\\t\\t\\t\\tcontinue;\\n\\t\\t\\t}\\n\\t\\t\\tvar tr = $(thead).find(\"tr\").eq(i);\\n\\t\\t\\tfor(var j=0;j<$(tr).find(\"th\").length;j++){\\n\\t\\t\\t\\tif (ifCheckbox && j==1) {\\n\\t\\t\\t\\t\\tcontinue;\\n\\t\\t\\t\\t}\\n\\t\\t\\t\\tdata+=$(tr).find(\"th\").eq(j).text();\\n\\t\\t\\t\\tif(j<$(tr).find(\"th\").length-1){\\n\\t\\t\\t\\t\\tdata+=\\'\\\\t\\';\\n\\t\\t\\t\\t}\\n\\t\\t\\t}\\n\\t\\t\\tdata+=\"\\\\n\";\\n\\t\\t}\\n\\t\\t//取tbody信息\\n\\t\\tvar tbody = $(\"#\"+tableId+\" tbody\");\\n\\t\\tfor(var i=0;i<$(tbody).find(\"tr\").length;i++){\\n\\t\\t\\tvar tr = $(tbody).find(\"tr\").eq(i);\\n\\t\\t\\tfor(var j=0;j<$(tr).find(\"td\").length;j++){\\n\\t\\t\\t\\tif (ifCheckbox && j==1) {\\n\\t\\t\\t\\t\\tcontinue;\\n\\t\\t\\t\\t}\\n\\t\\t\\t\\tdata+=$(tr).find(\"td\").eq(j).text();\\n\\t\\t\\t\\tif(j<$(tr).find(\"td\").length-1){\\n\\t\\t\\t\\t\\tdata+=\\'\\\\t\\';\\n\\t\\t\\t\\t}\\n\\t\\t\\t}\\n\\t\\t\\tdata+=\"\\\\n\";\\n\\t\\t}\\n\\t\\t\\n\\t\\t// 取备注\\n\\t\\t$(\".explist:eq(0) dl\").each(function(i,e){\\n\\t\\t\\tif (i==0){\\n\\t\\t\\t\\tdata+=\"注:\";\\n\\t\\t\\t\\tdata+=\"\\\\t\";\\n\\t\\t\\t} else {\\n\\t\\t\\t\\tdata+=\"\\\\t\";\\n\\t\\t\\t}\\n\\t\\t\\tdata+=$(this).text();\\n\\t\\t\\tdata+=\"\\\\n\";\\n\\t\\t  });\\n\\t\\t\\n\\t\\tdata += \\'数据来源：国家统计局\\';\\n\\t\\treturn data;\\n\\t}\\n\\t\\n\\n\\t//下载\\n\\tfunction loadDownloadPop(){\\n\\t\\tvar ifCheckbox = $(\"#initIndexCharts\").is(\":visible\");\\n\\t\\tpopDownload(ifCheckbox,\"table_main\");\\n\\t}\\n\\n\\t//打印\\n\\tfunction printData(){\\n\\t\\tsetPrintFile();\\n\\t}\\n\\t//保存图片\\n\\tfunction setPrintFile(){\\n\\t\\t$(\"#printContent\").empty();\\n\\t\\t$(\"#printContent\").append(\\'<img class=\"left\" src=\"/theme/pic/logo.png\" />\\');\\n\\t\\t\\n\\t\\tvar wds=\\'<div width=400px;><div style=\"float:right;\">\\';\\n\\t\\tfor ( var i = 0; i < droplist.length; i++) {\\n\\t\\t\\tvar dt = droplist[i];\\n\\t\\t\\tif(dt.getItem().sort==1){\\n\\t\\t\\t\\twds = wds + dt.getWd().wdname + \":\" + dt.getItem().name+\"\\u3000\\u3000\\u3000\";\\n\\t\\t\\t}\\n\\t\\t}\\n\\t\\t$(\"#printContent\").append(wds+\\'</div></div><div class=\"clear\"></div>\\');\\n\\t\\t\\n\\t\\tif($(\"#initIndexCharts\").is(\":visible\")){\\n\\t\\t\\t$(\"#printContent\").append($(myChart.getImage()).attr(\"id\",\"printImage\"));\\n\\t\\t}\\n\\n\\t\\t$(\"#printContent\").append($(\".table_column\").clone());\\n\\t\\t\\t\\t\\n\\t\\tif($(\".expShow\").is(\":visible\")){\\n\\t\\t\\t$(\"#printContent\").append($(\".expShow\").clone());\\n\\t\\t}\\n\\t\\t$(\"#printContent\").append(\\'<div class=\"mt30 ml10\">数据来源：国家统计局</div>\\');\\n\\t\\t$(\"#printContent\").printArea();\\n\\t}\\n\\t\\n\\t$(function(){\\n\\t\\t/*功能菜单*/\\n\\t\\tmenu(\"rightmenu\", \"rightbar\");\\n\\t\\t// 初始化左侧树\\n\\t\\tinitLeftTree();\\t\\t\\n\\t\\t// 查询纬度信息\\n\\t\\tgetwds(drawChart.RowCode(),drawChart.ColCode(),[]);\\t\\t\\n\\t\\t\\n\\t\\t//执行收藏恢复\\n\\t\\tif(reAcriontStr!=\"\"){\\n\\t\\t\\tvar actions = eval(\"(\" + reAcriontStr + \")\");\\n\\t\\t\\tif (!drawChart.isEmptyObject(actions)) {\\n\\t\\t\\t\\tdrawChart.Action(actions);\\n\\t\\t\\t\\t$(\".table-container\").html( toHtml() );\\n\\t\\t\\t\\tsetTuOption();//作图\\n\\t\\t\\t}\\n\\t\\t}\\n\\n\\t\\t// 复制控制事件\\n\\t    var clipboard = new ClipboardJS(\\'#copyA------\\', {\\n\\t        text: function() {\\n\\t\\t\\t\\tvar userid = \"\";\\n\\t\\t\\t\\tif (userid == \"\") {\\n\\t\\t\\t\\t\\tpopLogin(\"\");\\n\\t\\t\\t\\t\\treturn false;\\n\\t\\t\\t\\t}\\n\\t\\t\\t\\treturn copyTable(\"table_main\");\\n\\t        }\\n\\t    });\\n\\t\\n\\t    clipboard.on(\\'success\\', function(e) {\\n\\t        alert(\"复制成功！\");\\n\\t    });\\n\\t\\n\\t\\t//new锁定表头表尾\\n\\n\\t\\tlockLeft = $(\".main-right\").offset().left + 1;\\n\\t\\t$(window).scroll(function() {\\n\\t\\t\\tautoLock(lockLeft);\\n\\t\\t});\\n\\t\\t$(window).resize(function() {\\n\\t\\t\\tlockLeft = $(\".main-right\").offset().left + 1;\\n\\t\\t\\tautoLock(lockLeft);\\n\\t\\t});\\n\\t\\t//new锁定表头表尾end\\n\\t\\t\\n\\t\\t//作图提示\\n\\t\\t$(\".tishi\").hover(function(){\\n\\t\\t\\t$(\".tishiBox\").show();\\n\\t\\t},function(){\\n\\t\\t\\t$(\".tishiBox\").hide();\\n\\t\\t});\\n\\t});\\n\\n\\t\\n\\tfunction dowhere(act){\\n\\t\\tvar userid = \"\";\\n\\t\\tif (userid==\"\"){\\n\\t\\t\\tpopLogin(\"\");\\n\\t\\t\\treturn;\\n\\t\\t}\\n\\t\\t$.ajax({\\n\\t\\t\\turl : \"/easyquery.htm\",\\n\\t\\t\\ttype : \"get\",\\n\\t\\t\\tdataType : \"json\",\\n\\t\\t\\tdata : {\\n\\t\\t\\t\\t\"m\" : \"DoWhere\",\\n\\t\\t\\t\\t\"dbcode\" : drawChart.DbCode(),\\n\\t\\t\\t\\t\"act\" :act\\n\\t\\t\\t},\\n\\t\\t\\tsuccess : function(data1) {\\n\\t\\t\\t\\tif(data1.returncode==200){\\n\\t\\t\\t\\t\\talert(data1.returndata.msg);\\n\\t\\t\\t\\t\\tif(act==\"del\"){\\n\\t\\t\\t\\t\\t\\tvar rowcode=data1.returndata.rowcode;\\n\\t\\t\\t\\t\\t\\tvar colcode=data1.returndata.colcode;\\n\\t\\t\\t\\t\\t\\tgetwds(rowcode,colcode,[]);\\n\\t\\t\\t\\t\\t}\\n\\t\\t\\t\\t}\\n\\t\\t\\t\\telse{\\n\\t\\t\\t\\t\\talert(data1.returndata);\\n\\t\\t\\t\\t}\\n\\t\\t\\t} \\n\\t\\t});\\n\\t\\t$(\".createtype > li\").eq(0).click();\\n\\t}\\n\\t\\n\\t//收藏\\n\\tfunction saveFavorite(){\\n\\t\\topenFvrtWin(\\'/easyquery.htm?m=saveFavorite\\',\\'\\',true);\\n\\t}\\n</script>\\n\\n<!-- main 开始 -->\\n<div id=\"main\">\\n    <!--navbar 开始-->\\n    <div id=\"navbar\">\\n        <!-- site 开始 -->\\n        <div id=\"site\">\\n            <div class=\"site-left\"></div>\\n            <div class=\"site-center\">\\n            \\t\\n\\n\\n\\n\\n\\n\\n\\n<ul class=\"ul-left pl15\">\\n\\t\\n\\t<li class=\"selected\"><strong class=\"left color1\"><a href=\"/index.htm\">首页</a></strong></li><li class=\"cur\"><span class=\"left\"></span> <a class=\"left\" code=\"navcode\" href=\"/easyquery.htm?cn=A01\">月度数据</a><span class=\"left last\"></span>  </li>\\n\\t<li><strong class=\"left\">简单查询</strong><span class=\"left\"></span></li>\\n</ul>\\n            \\n                <ul class=\"ul-right right\">\\t\\t\\n                    <li><a href=\"javascript:loginOper(loadDownloadPop)\" class=\"download mr20\" title=\"下载\"></a></li>\\n                    <!-- <li><a id=\"copyA\" href=\"javascript:;\" class=\"copy mr20\"></a></li>-->\\n  \\t\\t\\t\\t\\t<li><a href=\"javascript:loginOper(printData)\" class=\"print mr20\" title=\"打印\"></a></li>\\n                    <!-- <li><a href=\"javascript:loginOper(share)\" class=\"share mr15\" title=\"分享\"></a></li>-->\\n                </ul>\\n            </div>\\n            <div class=\"site-right\"></div>\\n        </div>\\n        <!-- site 结束 -->\\n\\n        <!-- subnav 开始 -->\\n        <div id=\"subnav\">\\n            \\n\\n\\n\\n\\n\\n\\n<ul class=\"ul-left left\">\\n\\t\\n\\t<li class=\"simpleQuery\"><span></span><a href=\"/easyquery.htm?cn=A01\">简单查询</a> </li><li class=\"advancedSearch\"><span></span><a href=\"/adv.htm?cn=A01\" class=\"advS\">高级查询</a> </li><li class=\"dataMap off\"><span></span><a class=\"map\">数据地图</a> </li><li class=\"viewChart\"><span></span><a href=\"/ks.htm?cn=A01\" class=\"viewChartA\">经济图表</a> </li>\\n</ul>\\n            \\n            <div class=\"mattblackmenu right\" id=\"rightmenu\">\\n\\t\\t\\t\\t<ul>\\n\\t\\t\\t\\t\\t<li><a href=\"javascript:loginOper(saveFavorite);\" id=\"sevaBtn\"><img class=\"vm\" src=\"/images/icon-2.png\" width=\"18\" height=\"18\"><span>添加收藏</span></a></li>\\n\\t\\t\\t\\t\\t<li><a href=\"javascript:void(0);\" rel=\"menuE02\"><img class=\"vm\" src=\"/images/icon-3.png\" width=\"18\" height=\"18\"><span>数据管理</span><img src=\"js/nav/images/arrow-down.gif\" class=\"downarrowpointer\" style=\"width: 9px; height: 6px;\"></a></li>\\n\\t\\t\\t\\t\\t<li><a href=\"javascript:void(0);\" rel=\"menuG02\"><img class=\"vm\" src=\"/images/icon-4.png\" width=\"18\" height=\"18\"><span>报表管理</span><img src=\"js/nav/images/arrow-down.gif\" class=\"downarrowpointer\" style=\"width: 9px; height: 6px;\"></a></li>\\n\\t\\t\\t\\t</ul>\\n\\t\\t\\t</div>\\n\\t\\t\\t<!--menustyle end-->\\n\\t\\t\\t\\n\\t\\t\\t<!--menustyle end-->\\n\\t\\t\\t\\n        </div>\\n        <!-- subnav 结束 -->\\n    </div>\\n    <!--navbar 结束-->\\n\\n    <!-- main_content 开始-->\\n    <div id=\"m-wrap\" class=\"mt10\">\\n        <div id=\"main-container\" style=\"position: relative;\">\\n            <!-- main-left 开始\"-->\\n            <div class=\"main-left left split-containe\" style=\"height: 429.667px;\">\\n              <div class=\"ztree-container\">\\n                  <ul id=\"treeZhiBiao\" class=\"ztree\"><li id=\"treeZhiBiao_1\" class=\"level0\" tabindex=\"0\" hidefocus=\"true\" treenode=\"\"><span id=\"treeZhiBiao_1_switch\" title=\"\" class=\"button level0 switch noline_open\" treenode_switch=\"\"></span><a id=\"treeZhiBiao_1_a\" class=\"level0\" treenode_a=\"\" onclick=\"\" target=\"_blank\" style=\"\" title=\"指标\"><span id=\"treeZhiBiao_1_ico\" title=\"\" treenode_ico=\"\" class=\"button ico_open\" style=\"\"></span><span id=\"treeZhiBiao_1_span\">指标</span></a><ul id=\"treeZhiBiao_1_ul\" class=\"level0 \" style=\"overflow: hidden; height: 2.50163px; padding-top: 0px; margin-top: 0px; padding-bottom: 0px; margin-bottom: 0px;\"><li id=\"treeZhiBiao_2\" class=\"level1\" tabindex=\"0\" hidefocus=\"true\" treenode=\"\"><span id=\"treeZhiBiao_2_switch\" title=\"\" class=\"button level1 switch noline_close\" treenode_switch=\"\"></span><a id=\"treeZhiBiao_2_a\" class=\"level1\" treenode_a=\"\" onclick=\"\" target=\"_blank\" style=\"\" title=\"价格指数\"><span id=\"treeZhiBiao_2_ico\" title=\"\" treenode_ico=\"\" class=\"button ico_close\" style=\"\"></span><span id=\"treeZhiBiao_2_span\">价格指数</span></a></li><li id=\"treeZhiBiao_3\" class=\"level1\" tabindex=\"0\" hidefocus=\"true\" treenode=\"\"><span id=\"treeZhiBiao_3_switch\" title=\"\" class=\"button level1 switch noline_close\" treenode_switch=\"\"></span><a id=\"treeZhiBiao_3_a\" class=\"level1\" treenode_a=\"\" onclick=\"\" target=\"_blank\" style=\"\" title=\"工业\"><span id=\"treeZhiBiao_3_ico\" title=\"\" treenode_ico=\"\" class=\"button ico_loading\" style=\"\"></span><span id=\"treeZhiBiao_3_span\">工业</span></a></li><li id=\"treeZhiBiao_4\" class=\"level1\" tabindex=\"0\" hidefocus=\"true\" treenode=\"\"><span id=\"treeZhiBiao_4_switch\" title=\"\" class=\"button level1 switch noline_close\" treenode_switch=\"\"></span><a id=\"treeZhiBiao_4_a\" class=\"level1\" treenode_a=\"\" onclick=\"\" target=\"_blank\" style=\"\" title=\"能源\"><span id=\"treeZhiBiao_4_ico\" title=\"\" treenode_ico=\"\" class=\"button ico_close\" style=\"\"></span><span id=\"treeZhiBiao_4_span\">能源</span></a></li><li id=\"treeZhiBiao_5\" class=\"level1\" tabindex=\"0\" hidefocus=\"true\" treenode=\"\"><span id=\"treeZhiBiao_5_switch\" title=\"\" class=\"button level1 switch noline_close\" treenode_switch=\"\"></span><a id=\"treeZhiBiao_5_a\" class=\"level1\" treenode_a=\"\" onclick=\"\" target=\"_blank\" style=\"\" title=\"固定资产投资(不含农户)\"><span id=\"treeZhiBiao_5_ico\" title=\"\" treenode_ico=\"\" class=\"button ico_close\" style=\"\"></span><span id=\"treeZhiBiao_5_span\">固定资产投资(不含农户)</span></a></li><li id=\"treeZhiBiao_6\" class=\"level1\" tabindex=\"0\" hidefocus=\"true\" treenode=\"\"><span id=\"treeZhiBiao_6_switch\" title=\"\" class=\"button level1 switch noline_close\" treenode_switch=\"\"></span><a id=\"treeZhiBiao_6_a\" class=\"level1\" treenode_a=\"\" onclick=\"\" target=\"_blank\" style=\"\" title=\"服务业生产指数\"><span id=\"treeZhiBiao_6_ico\" title=\"\" treenode_ico=\"\" class=\"button ico_close\" style=\"\"></span><span id=\"treeZhiBiao_6_span\">服务业生产指数</span></a></li><li id=\"treeZhiBiao_7\" class=\"level1\" tabindex=\"0\" hidefocus=\"true\" treenode=\"\"><span id=\"treeZhiBiao_7_switch\" title=\"\" class=\"button level1 switch noline_close\" treenode_switch=\"\"></span><a id=\"treeZhiBiao_7_a\" class=\"level1\" treenode_a=\"\" onclick=\"\" target=\"_blank\" style=\"\" title=\"城镇调查失业率\"><span id=\"treeZhiBiao_7_ico\" title=\"\" treenode_ico=\"\" class=\"button ico_close\" style=\"\"></span><span id=\"treeZhiBiao_7_span\">城镇调查失业率</span></a></li><li id=\"treeZhiBiao_8\" class=\"level1\" tabindex=\"0\" hidefocus=\"true\" treenode=\"\"><span id=\"treeZhiBiao_8_switch\" title=\"\" class=\"button level1 switch noline_close\" treenode_switch=\"\"></span><a id=\"treeZhiBiao_8_a\" class=\"level1\" treenode_a=\"\" onclick=\"\" target=\"_blank\" style=\"\" title=\"房地产\"><span id=\"treeZhiBiao_8_ico\" title=\"\" treenode_ico=\"\" class=\"button ico_close\" style=\"\"></span><span id=\"treeZhiBiao_8_span\">房地产</span></a></li><li id=\"treeZhiBiao_9\" class=\"level1\" tabindex=\"0\" hidefocus=\"true\" treenode=\"\"><span id=\"treeZhiBiao_9_switch\" title=\"\" class=\"button level1 switch noline_close\" treenode_switch=\"\"></span><a id=\"treeZhiBiao_9_a\" class=\"level1\" treenode_a=\"\" onclick=\"\" target=\"_blank\" style=\"\" title=\"国内贸易\"><span id=\"treeZhiBiao_9_ico\" title=\"\" treenode_ico=\"\" class=\"button ico_close\" style=\"\"></span><span id=\"treeZhiBiao_9_span\">国内贸易</span></a></li><li id=\"treeZhiBiao_10\" class=\"level1\" tabindex=\"0\" hidefocus=\"true\" treenode=\"\"><span id=\"treeZhiBiao_10_switch\" title=\"\" class=\"button level1 switch noline_close\" treenode_switch=\"\"></span><a id=\"treeZhiBiao_10_a\" class=\"level1\" treenode_a=\"\" onclick=\"\" target=\"_blank\" style=\"\" title=\"对外经济\"><span id=\"treeZhiBiao_10_ico\" title=\"\" treenode_ico=\"\" class=\"button ico_close\" style=\"\"></span><span id=\"treeZhiBiao_10_span\">对外经济</span></a></li><li id=\"treeZhiBiao_11\" class=\"level1\" tabindex=\"0\" hidefocus=\"true\" treenode=\"\"><span id=\"treeZhiBiao_11_switch\" title=\"\" class=\"button level1 switch noline_close\" treenode_switch=\"\"></span><a id=\"treeZhiBiao_11_a\" class=\"level1\" treenode_a=\"\" onclick=\"\" target=\"_blank\" style=\"\" title=\"交通运输\"><span id=\"treeZhiBiao_11_ico\" title=\"\" treenode_ico=\"\" class=\"button ico_close\" style=\"\"></span><span id=\"treeZhiBiao_11_span\">交通运输</span></a></li><li id=\"treeZhiBiao_12\" class=\"level1\" tabindex=\"0\" hidefocus=\"true\" treenode=\"\"><span id=\"treeZhiBiao_12_switch\" title=\"\" class=\"button level1 switch noline_close\" treenode_switch=\"\"></span><a id=\"treeZhiBiao_12_a\" class=\"level1\" treenode_a=\"\" onclick=\"\" target=\"_blank\" style=\"\" title=\"邮电通信\"><span id=\"treeZhiBiao_12_ico\" title=\"\" treenode_ico=\"\" class=\"button ico_close\" style=\"\"></span><span id=\"treeZhiBiao_12_span\">邮电通信</span></a></li><li id=\"treeZhiBiao_13\" class=\"level1\" tabindex=\"0\" hidefocus=\"true\" treenode=\"\"><span id=\"treeZhiBiao_13_switch\" title=\"\" class=\"button level1 switch noline_close\" treenode_switch=\"\"></span><a id=\"treeZhiBiao_13_a\" class=\"level1\" treenode_a=\"\" onclick=\"\" target=\"_blank\" style=\"\" title=\"采购经理指数\"><span id=\"treeZhiBiao_13_ico\" title=\"\" treenode_ico=\"\" class=\"button ico_close\" style=\"\"></span><span id=\"treeZhiBiao_13_span\">采购经理指数</span></a></li><li id=\"treeZhiBiao_14\" class=\"level1\" tabindex=\"0\" hidefocus=\"true\" treenode=\"\"><span id=\"treeZhiBiao_14_switch\" title=\"\" class=\"button level1 switch noline_close\" treenode_switch=\"\"></span><a id=\"treeZhiBiao_14_a\" class=\"level1\" treenode_a=\"\" onclick=\"\" target=\"_blank\" style=\"\" title=\"财政\"><span id=\"treeZhiBiao_14_ico\" title=\"\" treenode_ico=\"\" class=\"button ico_close\" style=\"\"></span><span id=\"treeZhiBiao_14_span\">财政</span></a></li><li id=\"treeZhiBiao_15\" class=\"level1\" tabindex=\"0\" hidefocus=\"true\" treenode=\"\"><span id=\"treeZhiBiao_15_switch\" title=\"\" class=\"button level1 switch noline_close\" treenode_switch=\"\"></span><a id=\"treeZhiBiao_15_a\" class=\"level1\" treenode_a=\"\" onclick=\"\" target=\"_blank\" style=\"\" title=\"金融\"><span id=\"treeZhiBiao_15_ico\" title=\"\" treenode_ico=\"\" class=\"button ico_close\" style=\"\"></span><span id=\"treeZhiBiao_15_span\">金融</span></a></li></ul></li></ul>\\n              </div>\\n\\n            </div>\\n            <!-- main-left 结束\"-->\\n\\n            <!-- main-right 开始-->\\n            <div class=\"main-right right split-containe\">\\n                <!-- mr-header 开始-->\\n                <div class=\"mr-header\">\\n                    <ul class=\"ul-view left createtype\">\\n                        <li onclick=\"tuOff()\"><a href=\"javascript:;\" class=\"list\" title=\"报表\"></a></li>\\n                        <li class=\"drawTu\" val=\"bar\"><a href=\"javascript:;\" class=\"line\" title=\"柱线图\"></a></li>\\n                        <li class=\"drawTu\" val=\"y-bar\"><a href=\"javascript:;\" class=\"bar\" title=\"条形图\"></a></li>\\n                        <li class=\"drawTu\" val=\"pie\"><a href=\"javascript:;\" class=\"pie\" title=\"饼图\"></a></li>\\n                    </ul>\\n                    <div class=\"right\" id=\"divdroplist\"><div id=\"mySelect_sj\" style=\"margin: 7px 10px 0 20px; float: left\" wdcode=\"sj\" wdname=\"时间\"><div class=\"wdName\">时间 ： </div><div class=\"dtHtml\"><div class=\"dtHead\" node=\"{&quot;code&quot;:&quot;202308&quot;,&quot;name&quot;:&quot;202308&quot;,&quot;sort&quot;:4}\" title=\"请选择时间\">请选择时间</div><div class=\"dtBody\"><div class=\"dtDrag\"></div><div class=\"dtList\"><ul><li node=\"{&quot;code&quot;:&quot;LAST13&quot;,&quot;name&quot;:&quot;最近13个月&quot;,&quot;sort&quot;:&quot;4&quot;}\" code=\"LAST13\" title=\"最近13个月\">最近13个月</li><li node=\"{&quot;code&quot;:&quot;LAST24&quot;,&quot;name&quot;:&quot;最近24个月&quot;,&quot;sort&quot;:&quot;4&quot;}\" code=\"LAST24\" title=\"最近24个月\">最近24个月</li><li node=\"{&quot;code&quot;:&quot;LAST36&quot;,&quot;name&quot;:&quot;最近36个月&quot;,&quot;sort&quot;:&quot;4&quot;}\" code=\"LAST36\" title=\"最近36个月\" style=\"border-bottom: none;\">最近36个月</li></ul></div><div class=\"dtFoot\"><input class=\"dtText\" type=\"text\" maxlength=\"50\"><div class=\"dtTextBtn\">确定</div><div class=\"nodeErrorInfo\"><p class=\"first\">例：输入格式如下</p><p>月：201201,201205</p><p>季：2012A,2012B</p><p class=\"nbsp\">2012C,2012D</p><p></p><p>年：2012,2013</p><p>其他：2013-,last10</p></div><div class=\"nodeArrow\"></div></div></div></div></div></div>\\n                </div>                \\n                <!-- mr-header 结束-->\\n\\n                <!-- mr-content 开始 -->\\n                <div class=\"mr-content\">\\n                \\t<div id=\"initIndexCharts\" class=\"hide\" style=\"display: none;\">\\n\\t\\t                <div class=\"editarea pr\">\\n\\t\\t                \\t<div class=\"right tishi mr20\"><img src=\"images/icon-1.png\">提示</div>\\n\\t\\t                \\t<div class=\"pa tishiBox tc\">说明：如果所选的作图项过多，可能会影响图例的正常显示。<em></em></div>\\n\\t\\t                    <a class=\"bt_edit mr20\" href=\"javascript:getChart();\">编辑</a>\\n\\t\\t                    <ul id=\"changerow_col\">\\n\\t\\t                        <li><input name=\"tuname\" id=\"_row\" class=\"vm\" type=\"radio\" value=\"row\" checked=\"checked\"><label for=\"_row\"> 行</label></li>\\n\\t\\t                        <li><input name=\"tuname\" id=\"_col\" class=\"vm\" type=\"radio\" value=\"col\"><label for=\"_col\"> 列</label></li>\\n\\t\\t                    </ul>\\n\\t\\t                </div>\\n\\t\\t\\t\\t\\t\\t<div id=\"chart\" _echarts_instance_=\"1694601983159\"><div style=\"position: relative; overflow: hidden; width: 680px; height: 400px;\"><div width=\"1020\" height=\"600\" data-zr-dom-id=\"bg\" style=\"position: absolute; left: 0px; top: 0px; width: 680px; height: 400px; user-select: none;\"></div><canvas width=\"1020\" height=\"600\" data-zr-dom-id=\"_zrender_hover_\" style=\"position: absolute; left: 0px; top: 0px; width: 680px; height: 400px; user-select: none;\"></canvas></div></div>\\n\\t\\t\\t\\t\\t</div>\\n\\t\\t\\t\\t\\t\\n                    <div class=\"table-container\"><div class=\"lockTable_container\" style=\"width: 692px; overflow: hidden;position: relative;\"><div class=\"table_container_fix\" style=\"overflow: hidden; position: absolute; z-index: 100; top: 0px; left: 0px; height: 30px; width: 88px;\"><table class=\"public_table table_fix\" cellspacing=\"0\" cellpadding=\"0\" width=\"100%\" style=\"width: 692px;\"><thead><tr class=\"tr-title\"><th style=\"text-align:center;\"><strong>指标</strong><span class=\"\" code=\"zb\"></span></th><th class=\"\"><strong>2023年7月</strong><span class=\"\" code=\"202307\"></span></th><th class=\"\"><strong>2023年6月</strong><span class=\"\" code=\"202306\"></span></th><th class=\"\"><strong>2023年5月</strong><span class=\"\" code=\"202305\"></span></th><th class=\"\"><strong>2023年4月</strong><span class=\"\" code=\"202304\"></span></th><th class=\"\"><strong>2023年3月</strong><span class=\"\" code=\"202303\"></span></th><th class=\"\"><strong>2023年2月</strong><span class=\"\" code=\"202302\"></span></th><th class=\"\"><strong>2022年12月</strong><span class=\"\" code=\"202212\"></span></th><th class=\"\"><strong>2022年11月</strong><span class=\"\" code=\"202211\"></span></th><th class=\"\"><strong>2022年10月</strong><span class=\"\" code=\"202210\"></span></th><th class=\"\"><strong>2022年9月</strong><span class=\"\" code=\"202209\"></span></th><th class=\"\"><strong>2022年8月</strong><span class=\"\" code=\"202208\"></span></th><th class=\"\"><strong>2022年7月</strong><span class=\"\" code=\"202207\"></span></th></tr></thead><tbody><tr><td class=\"\"><img src=\"images/icon-1no.png\">粗钢产量<br>当期值(万吨)</td><td align=\"right\" class=\"\">9079.7</td><td align=\"right\" class=\"\">9111.0</td><td align=\"right\" class=\"\">9012.3</td><td align=\"right\" class=\"\">9263.5</td><td align=\"right\" class=\"\">9572.6</td><td align=\"right\" class=\"\"></td><td align=\"right\" class=\"\">7788.9</td><td align=\"right\" class=\"\">7454.4</td><td align=\"right\" class=\"\">7975.9</td><td align=\"right\" class=\"\">8694.9</td><td align=\"right\" class=\"\">8386.8</td><td align=\"right\" class=\"\">8142.9</td></tr><tr><td class=\"\"><img src=\"images/icon-1no.png\">粗钢产量<br>累计值(万吨)</td><td align=\"right\" class=\"\">62651.4</td><td align=\"right\" class=\"\">53564.1</td><td align=\"right\" class=\"\">44462.9</td><td align=\"right\" class=\"\">35438.6</td><td align=\"right\" class=\"\">26155.6</td><td align=\"right\" class=\"\">16869.6</td><td align=\"right\" class=\"\">101300.3</td><td align=\"right\" class=\"\">93511.3</td><td align=\"right\" class=\"\">86056.9</td><td align=\"right\" class=\"\">78083.3</td><td align=\"right\" class=\"\">69314.9</td><td align=\"right\" class=\"\">60928.0</td></tr><tr><td class=\"\"><img src=\"images/icon-1no.png\">粗钢产量<br>同比增长(%)</td><td align=\"right\" class=\"\">11.5</td><td align=\"right\" class=\"\">0.4</td><td align=\"right\" class=\"\">-7.3</td><td align=\"right\" class=\"\">-1.5</td><td align=\"right\" class=\"\">6.9</td><td align=\"right\" class=\"\"></td><td align=\"right\" class=\"\">-9.8</td><td align=\"right\" class=\"\">7.3</td><td align=\"right\" class=\"\">11.0</td><td align=\"right\" class=\"\">17.6</td><td align=\"right\" class=\"\">0.5</td><td align=\"right\" class=\"\">-6.4</td></tr><tr><td class=\"\"><img src=\"images/icon-1no.png\">粗钢产量<br>累计增长(%)</td><td align=\"right\" class=\"\">2.5</td><td align=\"right\" class=\"\">1.3</td><td align=\"right\" class=\"\">1.6</td><td align=\"right\" class=\"\">4.1</td><td align=\"right\" class=\"\">6.1</td><td align=\"right\" class=\"\">5.6</td><td align=\"right\" class=\"\">-2.1</td><td align=\"right\" class=\"\">-1.4</td><td align=\"right\" class=\"\">-2.2</td><td align=\"right\" class=\"\">-3.4</td><td align=\"right\" class=\"\">-5.7</td><td align=\"right\" class=\"\">-6.4</td></tr></tbody></table></div><div class=\"table_container_head\" style=\"overflow: hidden; position: absolute; z-index: 50; top: 0px; left: 0px; height: 30px; width: 692px;\"><table class=\"public_table table_head\" cellspacing=\"0\" cellpadding=\"0\" width=\"100%\" style=\"width: 692px;\"><thead><tr class=\"tr-title\"><th style=\"text-align:center;\"><strong>指标</strong><span class=\"\" code=\"zb\"></span></th><th class=\"\"><strong>2023年7月</strong><span class=\"\" code=\"202307\"></span></th><th class=\"\"><strong>2023年6月</strong><span class=\"\" code=\"202306\"></span></th><th class=\"\"><strong>2023年5月</strong><span class=\"\" code=\"202305\"></span></th><th class=\"\"><strong>2023年4月</strong><span class=\"\" code=\"202304\"></span></th><th class=\"\"><strong>2023年3月</strong><span class=\"\" code=\"202303\"></span></th><th class=\"\"><strong>2023年2月</strong><span class=\"\" code=\"202302\"></span></th><th class=\"\"><strong>2022年12月</strong><span class=\"\" code=\"202212\"></span></th><th class=\"\"><strong>2022年11月</strong><span class=\"\" code=\"202211\"></span></th><th class=\"\"><strong>2022年10月</strong><span class=\"\" code=\"202210\"></span></th><th class=\"\"><strong>2022年9月</strong><span class=\"\" code=\"202209\"></span></th><th class=\"\"><strong>2022年8月</strong><span class=\"\" code=\"202208\"></span></th><th class=\"\"><strong>2022年7月</strong><span class=\"\" code=\"202207\"></span></th></tr></thead><tbody><tr><td class=\"\"><img src=\"images/icon-1no.png\">粗钢产量<br>当期值(万吨)</td><td align=\"right\" class=\"\">9079.7</td><td align=\"right\" class=\"\">9111.0</td><td align=\"right\" class=\"\">9012.3</td><td align=\"right\" class=\"\">9263.5</td><td align=\"right\" class=\"\">9572.6</td><td align=\"right\" class=\"\"></td><td align=\"right\" class=\"\">7788.9</td><td align=\"right\" class=\"\">7454.4</td><td align=\"right\" class=\"\">7975.9</td><td align=\"right\" class=\"\">8694.9</td><td align=\"right\" class=\"\">8386.8</td><td align=\"right\" class=\"\">8142.9</td></tr><tr><td class=\"\"><img src=\"images/icon-1no.png\">粗钢产量<br>累计值(万吨)</td><td align=\"right\" class=\"\">62651.4</td><td align=\"right\" class=\"\">53564.1</td><td align=\"right\" class=\"\">44462.9</td><td align=\"right\" class=\"\">35438.6</td><td align=\"right\" class=\"\">26155.6</td><td align=\"right\" class=\"\">16869.6</td><td align=\"right\" class=\"\">101300.3</td><td align=\"right\" class=\"\">93511.3</td><td align=\"right\" class=\"\">86056.9</td><td align=\"right\" class=\"\">78083.3</td><td align=\"right\" class=\"\">69314.9</td><td align=\"right\" class=\"\">60928.0</td></tr><tr><td class=\"\"><img src=\"images/icon-1no.png\">粗钢产量<br>同比增长(%)</td><td align=\"right\" class=\"\">11.5</td><td align=\"right\" class=\"\">0.4</td><td align=\"right\" class=\"\">-7.3</td><td align=\"right\" class=\"\">-1.5</td><td align=\"right\" class=\"\">6.9</td><td align=\"right\" class=\"\"></td><td align=\"right\" class=\"\">-9.8</td><td align=\"right\" class=\"\">7.3</td><td align=\"right\" class=\"\">11.0</td><td align=\"right\" class=\"\">17.6</td><td align=\"right\" class=\"\">0.5</td><td align=\"right\" class=\"\">-6.4</td></tr><tr><td class=\"\"><img src=\"images/icon-1no.png\">粗钢产量<br>累计增长(%)</td><td align=\"right\" class=\"\">2.5</td><td align=\"right\" class=\"\">1.3</td><td align=\"right\" class=\"\">1.6</td><td align=\"right\" class=\"\">4.1</td><td align=\"right\" class=\"\">6.1</td><td align=\"right\" class=\"\">5.6</td><td align=\"right\" class=\"\">-2.1</td><td align=\"right\" class=\"\">-1.4</td><td align=\"right\" class=\"\">-2.2</td><td align=\"right\" class=\"\">-3.4</td><td align=\"right\" class=\"\">-5.7</td><td align=\"right\" class=\"\">-6.4</td></tr></tbody></table></div><div class=\"table_container_column\" style=\"overflow: hidden; position: absolute; z-index: 40; top: 0px; left: 0px; width: 88px;\"><table class=\"public_table table_column\" cellspacing=\"0\" cellpadding=\"0\" width=\"100%\" style=\"width: 692px;\"><thead><tr class=\"tr-title\"><th style=\"text-align:center;\"><strong>指标</strong><span class=\"\" code=\"zb\"></span></th><th class=\"\"><strong>2023年7月</strong><span class=\"\" code=\"202307\"></span></th><th class=\"\"><strong>2023年6月</strong><span class=\"\" code=\"202306\"></span></th><th class=\"\"><strong>2023年5月</strong><span class=\"\" code=\"202305\"></span></th><th class=\"\"><strong>2023年4月</strong><span class=\"\" code=\"202304\"></span></th><th class=\"\"><strong>2023年3月</strong><span class=\"\" code=\"202303\"></span></th><th class=\"\"><strong>2023年2月</strong><span class=\"\" code=\"202302\"></span></th><th class=\"\"><strong>2022年12月</strong><span class=\"\" code=\"202212\"></span></th><th class=\"\"><strong>2022年11月</strong><span class=\"\" code=\"202211\"></span></th><th class=\"\"><strong>2022年10月</strong><span class=\"\" code=\"202210\"></span></th><th class=\"\"><strong>2022年9月</strong><span class=\"\" code=\"202209\"></span></th><th class=\"\"><strong>2022年8月</strong><span class=\"\" code=\"202208\"></span></th><th class=\"\"><strong>2022年7月</strong><span class=\"\" code=\"202207\"></span></th></tr></thead><tbody><tr><td class=\"\"><img src=\"images/icon-1no.png\">粗钢产量<br>当期值(万吨)</td><td align=\"right\" class=\"\">9079.7</td><td align=\"right\" class=\"\">9111.0</td><td align=\"right\" class=\"\">9012.3</td><td align=\"right\" class=\"\">9263.5</td><td align=\"right\" class=\"\">9572.6</td><td align=\"right\" class=\"\"></td><td align=\"right\" class=\"\">7788.9</td><td align=\"right\" class=\"\">7454.4</td><td align=\"right\" class=\"\">7975.9</td><td align=\"right\" class=\"\">8694.9</td><td align=\"right\" class=\"\">8386.8</td><td align=\"right\" class=\"\">8142.9</td></tr><tr><td class=\"\"><img src=\"images/icon-1no.png\">粗钢产量<br>累计值(万吨)</td><td align=\"right\" class=\"\">62651.4</td><td align=\"right\" class=\"\">53564.1</td><td align=\"right\" class=\"\">44462.9</td><td align=\"right\" class=\"\">35438.6</td><td align=\"right\" class=\"\">26155.6</td><td align=\"right\" class=\"\">16869.6</td><td align=\"right\" class=\"\">101300.3</td><td align=\"right\" class=\"\">93511.3</td><td align=\"right\" class=\"\">86056.9</td><td align=\"right\" class=\"\">78083.3</td><td align=\"right\" class=\"\">69314.9</td><td align=\"right\" class=\"\">60928.0</td></tr><tr><td class=\"\"><img src=\"images/icon-1no.png\">粗钢产量<br>同比增长(%)</td><td align=\"right\" class=\"\">11.5</td><td align=\"right\" class=\"\">0.4</td><td align=\"right\" class=\"\">-7.3</td><td align=\"right\" class=\"\">-1.5</td><td align=\"right\" class=\"\">6.9</td><td align=\"right\" class=\"\"></td><td align=\"right\" class=\"\">-9.8</td><td align=\"right\" class=\"\">7.3</td><td align=\"right\" class=\"\">11.0</td><td align=\"right\" class=\"\">17.6</td><td align=\"right\" class=\"\">0.5</td><td align=\"right\" class=\"\">-6.4</td></tr><tr><td class=\"\"><img src=\"images/icon-1no.png\">粗钢产量<br>累计增长(%)</td><td align=\"right\" class=\"\">2.5</td><td align=\"right\" class=\"\">1.3</td><td align=\"right\" class=\"\">1.6</td><td align=\"right\" class=\"\">4.1</td><td align=\"right\" class=\"\">6.1</td><td align=\"right\" class=\"\">5.6</td><td align=\"right\" class=\"\">-2.1</td><td align=\"right\" class=\"\">-1.4</td><td align=\"right\" class=\"\">-2.2</td><td align=\"right\" class=\"\">-3.4</td><td align=\"right\" class=\"\">-5.7</td><td align=\"right\" class=\"\">-6.4</td></tr></tbody></table></div><div class=\"table_container_main\" style=\"overflow: auto hidden; width: 692px; position: relative; height: 300px;\"><table class=\"public_table table_main\" cellspacing=\"0\" cellpadding=\"0\" width=\"100%\" id=\"table_main\"><thead><tr class=\"tr-title\"><th style=\"text-align:center;\"><strong>指标</strong><span class=\"\" code=\"zb\"></span></th><th class=\"\"><strong>2023年7月</strong><span class=\"\" code=\"202307\"></span></th><th class=\"\"><strong>2023年6月</strong><span class=\"\" code=\"202306\"></span></th><th class=\"\"><strong>2023年5月</strong><span class=\"\" code=\"202305\"></span></th><th class=\"\"><strong>2023年4月</strong><span class=\"\" code=\"202304\"></span></th><th class=\"\"><strong>2023年3月</strong><span class=\"\" code=\"202303\"></span></th><th class=\"\"><strong>2023年2月</strong><span class=\"\" code=\"202302\"></span></th><th class=\"\"><strong>2022年12月</strong><span class=\"\" code=\"202212\"></span></th><th class=\"\"><strong>2022年11月</strong><span class=\"\" code=\"202211\"></span></th><th class=\"\"><strong>2022年10月</strong><span class=\"\" code=\"202210\"></span></th><th class=\"\"><strong>2022年9月</strong><span class=\"\" code=\"202209\"></span></th><th class=\"\"><strong>2022年8月</strong><span class=\"\" code=\"202208\"></span></th><th class=\"\"><strong>2022年7月</strong><span class=\"\" code=\"202207\"></span></th></tr></thead><tbody><tr><td class=\"\"><img src=\"images/icon-1no.png\">粗钢产量<br>当期值(万吨)</td><td align=\"right\" class=\"\">9079.7</td><td align=\"right\" class=\"\">9111.0</td><td align=\"right\" class=\"\">9012.3</td><td align=\"right\" class=\"\">9263.5</td><td align=\"right\" class=\"\">9572.6</td><td align=\"right\" class=\"\"></td><td align=\"right\" class=\"\">7788.9</td><td align=\"right\" class=\"\">7454.4</td><td align=\"right\" class=\"\">7975.9</td><td align=\"right\" class=\"\">8694.9</td><td align=\"right\" class=\"\">8386.8</td><td align=\"right\" class=\"\">8142.9</td></tr><tr><td class=\"\"><img src=\"images/icon-1no.png\">粗钢产量<br>累计值(万吨)</td><td align=\"right\" class=\"\">62651.4</td><td align=\"right\" class=\"\">53564.1</td><td align=\"right\" class=\"\">44462.9</td><td align=\"right\" class=\"\">35438.6</td><td align=\"right\" class=\"\">26155.6</td><td align=\"right\" class=\"\">16869.6</td><td align=\"right\" class=\"\">101300.3</td><td align=\"right\" class=\"\">93511.3</td><td align=\"right\" class=\"\">86056.9</td><td align=\"right\" class=\"\">78083.3</td><td align=\"right\" class=\"\">69314.9</td><td align=\"right\" class=\"\">60928.0</td></tr><tr><td class=\"\"><img src=\"images/icon-1no.png\">粗钢产量<br>同比增长(%)</td><td align=\"right\" class=\"\">11.5</td><td align=\"right\" class=\"\">0.4</td><td align=\"right\" class=\"\">-7.3</td><td align=\"right\" class=\"\">-1.5</td><td align=\"right\" class=\"\">6.9</td><td align=\"right\" class=\"\"></td><td align=\"right\" class=\"\">-9.8</td><td align=\"right\" class=\"\">7.3</td><td align=\"right\" class=\"\">11.0</td><td align=\"right\" class=\"\">17.6</td><td align=\"right\" class=\"\">0.5</td><td align=\"right\" class=\"\">-6.4</td></tr><tr><td class=\"\"><img src=\"images/icon-1no.png\">粗钢产量<br>累计增长(%)</td><td align=\"right\" class=\"\">2.5</td><td align=\"right\" class=\"\">1.3</td><td align=\"right\" class=\"\">1.6</td><td align=\"right\" class=\"\">4.1</td><td align=\"right\" class=\"\">6.1</td><td align=\"right\" class=\"\">5.6</td><td align=\"right\" class=\"\">-2.1</td><td align=\"right\" class=\"\">-1.4</td><td align=\"right\" class=\"\">-2.2</td><td align=\"right\" class=\"\">-3.4</td><td align=\"right\" class=\"\">-5.7</td><td align=\"right\" class=\"\">-6.4</td></tr></tbody></table></div></div></div><div class=\"expShow\"><div class=\"zhu\">注：</div><div class=\"explist\"><dl><dd>从2011年起，规模以上工业企业起点标准由原来的年主营业务收入500万元提高到年主营业务收入2000万元。</dd></dl></div></div>\\n                    \\n                </div>\\n                <!-- mr-content 结束 -->\\n            </div>\\n            <!-- main-right 结束-->\\n            <div class=\"clear split-containe\"></div>\\n        <div class=\"splitbar\" style=\"top: 200px; left: 251.333px;\"></div></div>\\n\\n    </div>\\n    <!-- main_content 结束-->\\n</div>\\n<!-- main 结束 -->\\n\\n\\n<!-- 引入页尾 -->\\n\\n\\n\\n\\n\\n\\n<!-- 在线留言开始 -->\\n<script type=\"text/javascript\" src=\"/js/tips/js/tipsBox.js\"></script>\\n<script src=\"/js/message/messagePop.js\" type=\"text/javascript\"></script>\\n<script type=\"text/javascript\">\\n\\tvar basePath=\"\";\\n\\t//提交留言\\n\\tfunction addMsg(){\\n\\t\\tvar username = $.trim($(\"#usrname\").val());\\n\\t\\tvar phone = $.trim($(\"#phone\").val());\\n\\t\\tvar email = $.trim($(\"#email\").val());\\n\\t\\tvar subject = $.trim($(\"#subject\").val());\\n\\t\\tvar content = $.trim($(\"#detail\").val());\\n\\t\\tif(username == \"\"){\\n\\t\\t\\talert(\"姓名不能为空！\");\\n\\t\\t} else if(username.length > 100){\\n\\t\\t\\talert(\"姓名不能超过100个字符！\");\\n\\t\\t} else if(phone ==\"\"){\\n\\t\\t\\talert(\"电话号码不能为空！\");\\n\\t\\t} else if(phone!=\"\" && !(/^(0[0-9]{2,3}\\\\-)?([2-9][0-9]{6,7})+(\\\\-[0-9]{1,4})?$|(^(13[0-9]|15[0|3|6|7|8|9]|18[8|9])\\\\d{8}$)/.test(phone))){\\n\\t\\t\\talert(\"请输入正确的电话号码!\\\\n如：0591-6487256,1581064****\");\\n\\t\\t} else if(email == \"\"){\\n\\t\\t\\talert(\"电子邮件不能为空！\");\\n\\t\\t} else if(email.length > 100){\\n\\t\\t\\talert(\"电子邮件不能超过100个字符！\");\\n\\t\\t} else if(!(/^([0-9a-zA-Z-_]){4,}@([0-9a-zA-Z])+((\\\\.)[0-9a-zA-Z]+){1,2}$/.test(email))){\\n\\t\\t\\talert(\"电子邮件格式不正确！邮箱@符号之前最少4个字符。\");\\n\\t\\t} else if(subject.length > 100){\\n\\t\\t\\talert(\"留言主题不能超过100个字符！\");\\n\\t\\t} else if(content == \"\"){\\n\\t\\t\\talert(\"留言内容不能为空！\");\\n\\t\\t} else if(content.length > 500){\\n\\t\\t\\talert(\"留言内容不能超过500个字符！\");\\n\\t\\t} else{\\n\\t\\t\\t$.ajax({\\n\\t\\t        url :basePath+\"/msg.htm\",\\n\\t\\t        type : \\'POST\\',\\n\\t\\t        data : {\\n\\t\\t        \\tm : \"addMsg\",\\n\\t\\t        \\tusername : username,\\n\\t\\t        \\tphone : phone,\\n\\t\\t        \\temail : email,\\n\\t\\t        \\tsubject : subject,\\n\\t\\t        \\tcontent : content\\n\\t\\t        },\\n\\t\\t        success : function(data){\\n\\t\\t            if(data){\\n\\t\\t            \\talert(\"留言成功！\");\\n\\t\\t            \\t$(\".closeBtn\").trigger(\"click\");\\n\\t\\t            }else{\\n\\t\\t            \\talert(\"操作失败！\");\\n\\t\\t            }\\n\\t\\t        }\\n\\t\\t    });\\n\\t\\t}\\n\\t}\\n\\t\\n\\t//取消留言\\n\\tfunction cancelMsg(){\\n\\t\\t$(\".closeBtn\").trigger(\"click\");\\n\\t}\\n\\n    //弹出留言板\\n\\tfunction showMessagePop(){\\n      \\t//弹出收藏夹\\n      \\t$.tips({\\n\\t\\t\\ttitle : \\'在线留言\\',\\t\\t\\t\\n\\t\\t\\tcontent : messageDiv,\\t\\t\\n\\t\\t\\twidth : 650,\\t\\t\\t\\t\\n\\t\\t\\theight : 400,\\n\\t\\t\\tdrag : true,\\t\\t\\t\\n\\t\\t\\tisCopy : false\\t\\t\\t\\n\\t\\t});\\t\\n      \\t\\n      \\t//同步请求用户session数据\\n    \\t$.ajaxSettings.async = false;\\n      \\t$.getJSON(basePath+\"/msg.htm\", function(json){\\n      \\t\\tif(json!=null){\\n      \\t\\t\\t$(\"#email\").val(json.name);\\n          \\t\\t$(\"#phone\").val(json.phone);\\n      \\t\\t}\\n \\t\\t});\\n\\t};\\n</script>\\n<!-- 在线留言结束 -->\\n\\n\\n<!--footer-->\\n<div id=\"footer\" class=\"clearfix\">\\n\\t<div class=\"cpr\">\\n\\t\\t<ul>\\n\\t\\t\\t<li class=\"tittle\">统计法规</li>\\n\\t\\t\\t<li><img src=\"images/footLine.jpg\" border=\"0\"></li>\\n\\t\\t\\t<li><a href=\"http://www.stats.gov.cn/gk/tjfg/tjfl/202302/t20230206_1901827.html\" target=\"_blank\">《统计法》</a></li>\\n\\t\\t\\t<li><a href=\"http://www.stats.gov.cn/gk/tjfg/xzfg/202302/t20230206_1901836.html\" target=\"_blank\">统计法实施条例</a></li>\\n\\t\\t\\t<li><a href=\"http://www.stats.gov.cn/gk/tjfg/xzfg/202302/t20230206_1901835.html\" target=\"_blank\">人口普查条例</a></li>\\n\\t\\t\\t<li><a href=\"http://www.stats.gov.cn/gk/tjfg/xzfg/202302/t20230206_1901833.html\" target=\"_blank\">经济普查条例</a></li>\\n\\t\\t\\t<li><a href=\"http://www.stats.gov.cn/gk/tjfg/gz/202302/t20230206_1901838.html\" target=\"_blank\">统计违法违纪行为处分规定</a></li>\\n\\t\\t\\t<li><a href=\"http://www.stats.gov.cn/gk/tjfg/gz/202302/t20230206_1901840.html\" target=\"_blank\">统计调查证管理办法</a></li>\\n\\t\\t\\t<li><a href=\"http://www.stats.gov.cn/gk/tjfg/gz/202302/t20230206_1901837.html\" target=\"_blank\">涉外调查管理办法</a></li>\\n\\t\\t</ul>\\n\\t</div>\\n\\t<div class=\"cpr\">\\n\\t\\t<ul>\\n\\t\\t\\t<li class=\"tittle\">标准制度</li>\\n\\t\\t\\t<li><img src=\"images/footLine.jpg\" border=\"0\"></li>\\n\\t\\t\\t<li><a href=\"http://www.stats.gov.cn/sj/tjbz/gmjjhyfl/202302/t20230213_1902780.html\" target=\"_blank\">国民经济行业分类</a></li>\\n\\t\\t\\t<li><a href=\"http://www.stats.gov.cn/sj/tjzd/202302/t20230202_1897070.html\" target=\"_blank\">基本单位统计报表制度</a></li>\\n\\t\\t\\t<li><a href=\"http://www.stats.gov.cn/sj/tjzd/202302/t20230202_1897077.html\" target=\"_blank\">农林牧渔业统计调查制度</a></li>\\n\\t\\t\\t<li><a href=\"http://www.stats.gov.cn/sj/tjbz/gjtjbz/\" target=\"_blank\">更多制度&gt;&gt;</a></li>\\n\\t\\t</ul>\\n\\t</div>\\n\\t<div class=\"cpr\">\\n\\t\\t<ul>\\n\\t\\t\\t<li class=\"tittle\">统计数据生产过程</li>\\n\\t\\t\\t<li><img src=\"images/footLine.jpg\" border=\"0\"></li>\\n\\t\\t\\t<li><a href=\"http://www.stats.gov.cn/zs/tjwh/spdb/202302/t20230217_1910011.html\" target=\"_blank\">国内生产总值（GDP）</a></li>\\n\\t\\t\\t<li><a href=\"http://www.stats.gov.cn/zs/tjwh/spdb/202302/t20230217_1910010.html\" target=\"_blank\">居民消费者价格指数（CPI）</a></li>\\n\\t\\t\\t<li><a href=\"http://www.stats.gov.cn/zs/tjwh/spdb/202302/t20230217_1910023.html\" target=\"_blank\">生产者价格指数（PPI）</a></li>\\n\\t\\t\\t<li><a href=\"http://www.stats.gov.cn/zs/tjwh/spdb/202302/t20230217_1910037.html\" target=\"_blank\">工业生产增长速度</a></li>\\n\\t\\t\\t<li><a href=\"http://www.stats.gov.cn/zs/tjwh/spdb/202302/t20230217_1910038.html\" target=\"_blank\">固定资产投资</a></li>\\n\\t\\t\\t<li><a href=\"http://www.stats.gov.cn/zs/tjwh/spdb/202302/t20230217_1910039.html\" target=\"_blank\">社会消费品零售总额</a></li>\\n\\t\\t\\t<li><a href=\"http://www.stats.gov.cn/zs/tjwh/spdb/202302/t20230217_1910024.html\" target=\"_blank\">粮食产量</a></li>\\n\\t\\t\\t<li><a href=\"http://www.stats.gov.cn/zs/tjwh/spdb/202302/t20230217_1910025.html\" target=\"_blank\">城乡居民收入与支出</a></li>\\n\\t\\t</ul>\\n\\t</div>\\n\\t<div class=\"cpr02\">\\n\\t\\t<ul>\\n\\t\\t\\t<li class=\"tittle\">在线电话</li>\\n\\t\\t\\t<li>咨询电话：010-68576320</li>\\n\\t\\t\\t<li class=\"tittle\"></li>\\n\\t\\t\\t<li>周一至周五（上午8:30-11:30,下午1:30-4:30）</li>\\n\\t\\t</ul>\\n\\t</div>\\n</div>\\n<div class=\"about\">\\n\\t<table>\\n\\t\\t<tbody>\\n\\t\\t\\t<tr>\\n\\t\\t\\t\\t<td width=\"110\" rowspan=\"4\"><a href=\"http://bszs.conac.cn/sitename?method=show&amp;id=0D0B77DBD5666A3EE053012819ACD529\" target=\"_blank\"><img src=\"/images/gov.png\" alt=\"党政机关\"></a></td>\\n\\t\\t\\t\\t<td>版权所有：中华人民共和国国家统计局</td>\\n\\t\\t\\t\\t<td width=\"160\" rowspan=\"4\"><a class=\"ierr\" href=\"http://121.43.68.40/exposure/jiucuo.html?site_code=bm36000002\" target=\"_blank\"><img src=\"/images/err.png\" alt=\"党政机关\"></a></td>\\n\\t\\t\\t</tr>\\n\\t\\t\\t<tr>\\n\\t\\t\\t\\t<td>地址：北京市西城区月坛南街57号（100826）</td>\\n\\t\\t\\t</tr>\\n\\t\\t\\t<tr>\\n\\t\\t\\t\\t<td>网站标识码 bm36000005</td>\\n\\t\\t\\t</tr>\\n\\t\\t\\t<tr>\\n\\t\\t\\t\\t<td>京ICP备05034670号</td>\\n\\t\\t\\t</tr>\\n\\t\\t</tbody>\\n\\t</table>\\n</div>\\n<script type=\"text/javascript\" src=\"/js/echarts.2.0.4.min.js\"></script>\\n<script type=\"text/javascript\" src=\"/js/chart/js/draw.js\"></script>\\n\\n<div class=\"navsubmenustyle\" style=\"z-index: 2000; left: 0px; top: 0px; visibility: hidden;\"><ul id=\"menuE01\" style=\"visibility: hidden;\"><li><a href=\"/easyquery.htm?cn=E0101\">分省月度数据</a>\\n</li>\\n<li><a href=\"/easyquery.htm?cn=E0102\">分省季度数据</a>\\n</li>\\n<li><a href=\"/easyquery.htm?cn=E0103\">分省年度数据</a>\\n</li>\\n<li><a href=\"/easyquery.htm?cn=E0104\">主要城市月度价格</a>\\n</li>\\n<li><a href=\"/easyquery.htm?cn=E0105\">主要城市年度数据</a>\\n</li>\\n<li><a href=\"/easyquery.htm?cn=E0109\">港澳台月度数据</a>\\n</li>\\n<li><a href=\"/easyquery.htm?cn=E0110\">港澳台年度数据</a>\\n</li>\\n</ul></div><div class=\"navsubmenustyle\" style=\"z-index: 2000; left: 0px; top: 0px; visibility: hidden;\"><ul id=\"menuG01\" style=\"visibility: hidden;\"><li><a href=\"/easyquery.htm?cn=G0101\">主要国家(地区)月度数据</a>\\n</li>\\n<li><a href=\"/easyquery.htm?cn=G0102\">三大经济体月度数据</a>\\n</li>\\n<li><a href=\"/easyquery.htm?cn=G0103\">国际市场月度商品价格</a>\\n</li>\\n<li><a href=\"/easyquery.htm?cn=G0104\">主要国家(地区)年度数据</a>\\n</li>\\n<li><a href=\"/gwwz.htm\">国际组织网站</a>\\n</li>\\n<li><a href=\"/gjwz.htm\">各国统计网站</a>\\n</li>\\n</ul></div><div class=\"navsubmenustyle\" style=\"z-index: 2000; left: 0px; top: 0px; visibility: hidden;\"><ul id=\"menuE02\" style=\"visibility: hidden;\">\\n\\t\\t\\t\\t<li id=\"addIndexLi\"><a href=\"javascript:void(0);\">新增指标</a></li>\\n\\t\\t\\t\\t<li id=\"filterLi\"><a href=\"javascript:void(0);\">筛选</a></li>\\n\\t\\t\\t\\t<li><a href=\"javascript:void(0);\"><img src=\"js/nav/images/arrow-right.gif\" class=\"rightarrowpointer\" style=\"width: 6px; height: 9px; left: 136px;\">统计</a>\\n\\t\\t\\t\\t\\t\\n\\t\\t\\t\\t<div style=\"left: 0px; top: 0px; visibility: hidden;\"><ul style=\"visibility: hidden;\">\\n\\t\\t\\t\\t\\t    <li><a href=\"javascript:void(0);\"><img src=\"js/nav/images/arrow-right.gif\" class=\"rightarrowpointer\" style=\"width: 6px; height: 9px; left: 136px;\">对行运算</a>\\n\\t\\t\\t\\t\\t        \\n\\t\\t\\t\\t\\t    <div style=\"left: 0px; top: 0px; visibility: hidden;\"><ul style=\"visibility: hidden;\">\\n\\t\\t\\t\\t\\t            <li><a href=\"javascript:void(0);\" onclick=\"sum(\\'row\\')\">SUM求和</a></li>\\n\\t\\t\\t\\t\\t            <li><a href=\"javascript:void(0);\" onclick=\"avg(\\'row\\')\"><img height=\"10\" width=\"9\" src=\"/theme/pic/pjz.png\">平均值</a></li>\\n\\t\\t\\t\\t\\t            <li><a href=\"javascript:void(0);\" onclick=\"max(\\'row\\')\">MAX最大值</a></li>\\n\\t\\t\\t\\t\\t            <li><a href=\"javascript:void(0);\" onclick=\"min(\\'row\\')\">MIN最小值</a></li>\\n\\t\\t\\t\\t\\t            <li><a href=\"javascript:void(0);\" onclick=\"mid(\\'row\\')\">Md中位数</a></li>\\n\\t\\t\\t\\t\\t            <li><a href=\"javascript:void(0);\" onclick=\"mod(\\'row\\')\">MO众数</a></li>\\n\\t\\t\\t\\t\\t            <li><a href=\"javascript:void(0);\" onclick=\"s2(\\'row\\')\">S<sup>2</sup>方差</a></li>\\n\\t\\t\\t\\t\\t            <li><a href=\"javascript:void(0);\" onclick=\"sd(\\'row\\')\">S标准差</a></li>\\n\\t\\t\\t\\t\\t        </ul></div></li>\\n\\t\\t\\t\\t\\t    <li><a href=\"javascript:void(0);\"><img src=\"js/nav/images/arrow-right.gif\" class=\"rightarrowpointer\" style=\"width: 6px; height: 9px; left: 136px;\"><strong class=\"mr10\">对列运算</strong></a>\\n\\t\\t\\t\\t\\t        \\n\\t\\t\\t\\t\\t    <div style=\"left: 0px; top: 0px; visibility: hidden;\"><ul style=\"visibility: hidden;\">\\n\\t\\t\\t\\t\\t            <li><a href=\"javascript:void(0);\" onclick=\"sum(\\'col\\')\">SUM求和</a></li>\\n\\t\\t\\t\\t\\t            <li><a href=\"javascript:void(0);\" onclick=\"avg(\\'col\\')\"><img height=\"10\" width=\"9\" src=\"/theme/pic/pjz.png\">平均值</a></li>\\n\\t\\t\\t\\t\\t            <li><a href=\"javascript:void(0);\" onclick=\"max(\\'col\\')\">MAX最大值</a></li>\\n\\t\\t\\t\\t\\t            <li><a href=\"javascript:void(0);\" onclick=\"min(\\'col\\')\">MIN最小值</a></li>\\n\\t\\t\\t\\t\\t            <li><a href=\"javascript:void(0);\" onclick=\"mid(\\'col\\')\">Md中位数</a></li>\\n\\t\\t\\t\\t\\t            <li><a href=\"javascript:void(0);\" onclick=\"mod(\\'col\\')\">MO众数</a></li>\\n\\t\\t\\t\\t\\t            <li><a href=\"javascript:void(0);\" onclick=\"s2(\\'col\\')\">S<sup>2</sup>方差</a></li>\\n\\t\\t\\t\\t\\t            <li><a href=\"javascript:void(0);\" onclick=\"sd(\\'col\\')\">S标准差</a></li>\\n\\t\\t\\t\\t\\t        </ul></div></li>\\n\\t\\t\\t\\t\\t</ul></div></li>\\n\\t\\t\\t\\t<li><a href=\"javascript:void(0);\" onclick=\"restore()\">恢复</a></li>\\n\\t\\t\\t\\t<li><a href=\"javascript:void(0);\" id=\"trimTable\" onclick=\"trimTable()\">去除空行空列</a></li>\\n\\t\\t\\t</ul></div><div class=\"navsubmenustyle\" style=\"z-index: 2000; left: 0px; top: 0px; visibility: hidden;\"><ul id=\"menuG02\" style=\"visibility: hidden;\">\\n\\t\\t\\t\\t<li><a href=\"javascript:void(0);\" id=\"edit\">编辑</a></li>\\n\\t\\t\\t\\t<li><a href=\"javascript:void(0);\" onclick=\"transdata()\">转置</a></li>\\n\\t\\t\\t\\t<li><a href=\"javascript:void(0);\" id=\"webDuSwop\">维度转换</a></li>\\n\\t\\t\\t\\t<li><a href=\"javascript:dowhere(\\'save\\');\">保存默认</a></li>\\n\\t\\t\\t\\t<li><a href=\"javascript:dowhere(\\'del\\');\">恢复默认</a></li>\\n\\t\\t\\t</ul></div><div class=\"RMenu\"><ul class=\"RMenu-left\"><li class=\"icon-new\"></li><li class=\"icon-cut\"></li><li class=\"icon-paste\"></li><li class=\"icon-rename\"></li><li class=\"icon-delete\"></li></ul><ul class=\"RMenu-right\"><li class=\"li-new\"><a href=\"javascript:void(0)\" class=\"new\">新建</a><span>新建</span></li><li class=\"li-cut\"><a href=\"javascript:void(0)\" class=\"cut\">剪切</a><span>剪切</span></li><li class=\"li-paste\"><a href=\"javascript:void(0)\" class=\"paste\">粘贴</a><span>粘贴</span></li><li class=\"li-rename\"><a href=\"javascript:void(0)\" class=\"rename\">重命名</a><span>重命名</span></li><li class=\"li-delete\"><a href=\"javascript:void(0)\" class=\"delete\">删除</a><span>删除</span></li></ul></div><div class=\"RMenuNewView\"><div class=\"titleBar\"><span class=\"close\"></span></div><div class=\"newCon\"><label>名称：</label><input type=\"text\" class=\"RMenuNewName\" maxlength=\"20\"> </div></div></body></html>'"
      ]
     },
     "execution_count": 6,
     "metadata": {},
     "output_type": "execute_result"
    }
   ],
   "source": [
    "from selenium import webdriver\n",
    "url=\"https://data.stats.gov.cn/easyquery.htm?cn=A01&zb=A020914&sj=202308\"\n",
    "browser = webdriver.Chrome()\n",
    "browser.get(url)\n",
    "#browser.execute_script('window.scrollTo(0, document.body.scrollHeight)')\n",
    "browser.find_element_by_xpath('//button[@id=\"details-button\"]').click()\n",
    "#browser.find_element_by_xpath('//a[@id=\"proceed-link\"]').click()\n",
    "browser.find_element_by_id('proceed-link').click()\n",
    "data=browser.page_source\n",
    "data"
   ]
  },
  {
   "cell_type": "markdown",
   "id": "b2667aea",
   "metadata": {},
   "source": [
    "# 建议简单方法，使用pd.read_html(),可以直接读取表格"
   ]
  },
  {
   "cell_type": "code",
   "execution_count": 7,
   "id": "a978c8cf",
   "metadata": {},
   "outputs": [
    {
     "data": {
      "text/html": [
       "<div>\n",
       "<style scoped>\n",
       "    .dataframe tbody tr th:only-of-type {\n",
       "        vertical-align: middle;\n",
       "    }\n",
       "\n",
       "    .dataframe tbody tr th {\n",
       "        vertical-align: top;\n",
       "    }\n",
       "\n",
       "    .dataframe thead th {\n",
       "        text-align: right;\n",
       "    }\n",
       "</style>\n",
       "<table border=\"1\" class=\"dataframe\">\n",
       "  <thead>\n",
       "    <tr style=\"text-align: right;\">\n",
       "      <th></th>\n",
       "      <th>指标</th>\n",
       "      <th>2023年7月</th>\n",
       "      <th>2023年6月</th>\n",
       "      <th>2023年5月</th>\n",
       "      <th>2023年4月</th>\n",
       "      <th>2023年3月</th>\n",
       "      <th>2023年2月</th>\n",
       "      <th>2022年12月</th>\n",
       "      <th>2022年11月</th>\n",
       "      <th>2022年10月</th>\n",
       "      <th>2022年9月</th>\n",
       "      <th>2022年8月</th>\n",
       "      <th>2022年7月</th>\n",
       "    </tr>\n",
       "  </thead>\n",
       "  <tbody>\n",
       "    <tr>\n",
       "      <th>0</th>\n",
       "      <td>粗钢产量当期值(万吨)</td>\n",
       "      <td>9079.7</td>\n",
       "      <td>9111.0</td>\n",
       "      <td>9012.3</td>\n",
       "      <td>9263.5</td>\n",
       "      <td>9572.6</td>\n",
       "      <td>NaN</td>\n",
       "      <td>7788.9</td>\n",
       "      <td>7454.4</td>\n",
       "      <td>7975.9</td>\n",
       "      <td>8694.9</td>\n",
       "      <td>8386.8</td>\n",
       "      <td>8142.9</td>\n",
       "    </tr>\n",
       "    <tr>\n",
       "      <th>1</th>\n",
       "      <td>粗钢产量累计值(万吨)</td>\n",
       "      <td>62651.4</td>\n",
       "      <td>53564.1</td>\n",
       "      <td>44462.9</td>\n",
       "      <td>35438.6</td>\n",
       "      <td>26155.6</td>\n",
       "      <td>16869.6</td>\n",
       "      <td>101300.3</td>\n",
       "      <td>93511.3</td>\n",
       "      <td>86056.9</td>\n",
       "      <td>78083.3</td>\n",
       "      <td>69314.9</td>\n",
       "      <td>60928.0</td>\n",
       "    </tr>\n",
       "    <tr>\n",
       "      <th>2</th>\n",
       "      <td>粗钢产量同比增长(%)</td>\n",
       "      <td>11.5</td>\n",
       "      <td>0.4</td>\n",
       "      <td>-7.3</td>\n",
       "      <td>-1.5</td>\n",
       "      <td>6.9</td>\n",
       "      <td>NaN</td>\n",
       "      <td>-9.8</td>\n",
       "      <td>7.3</td>\n",
       "      <td>11.0</td>\n",
       "      <td>17.6</td>\n",
       "      <td>0.5</td>\n",
       "      <td>-6.4</td>\n",
       "    </tr>\n",
       "    <tr>\n",
       "      <th>3</th>\n",
       "      <td>粗钢产量累计增长(%)</td>\n",
       "      <td>2.5</td>\n",
       "      <td>1.3</td>\n",
       "      <td>1.6</td>\n",
       "      <td>4.1</td>\n",
       "      <td>6.1</td>\n",
       "      <td>5.6</td>\n",
       "      <td>-2.1</td>\n",
       "      <td>-1.4</td>\n",
       "      <td>-2.2</td>\n",
       "      <td>-3.4</td>\n",
       "      <td>-5.7</td>\n",
       "      <td>-6.4</td>\n",
       "    </tr>\n",
       "  </tbody>\n",
       "</table>\n",
       "</div>"
      ],
      "text/plain": [
       "            指标  2023年7月  2023年6月  2023年5月  2023年4月  2023年3月  2023年2月  2022年12月  2022年11月  2022年10月  2022年9月  2022年8月  2022年7月\n",
       "0  粗钢产量当期值(万吨)   9079.7   9111.0   9012.3   9263.5   9572.6      NaN    7788.9    7454.4    7975.9   8694.9   8386.8   8142.9\n",
       "1  粗钢产量累计值(万吨)  62651.4  53564.1  44462.9  35438.6  26155.6  16869.6  101300.3   93511.3   86056.9  78083.3  69314.9  60928.0\n",
       "2  粗钢产量同比增长(%)     11.5      0.4     -7.3     -1.5      6.9      NaN      -9.8       7.3      11.0     17.6      0.5     -6.4\n",
       "3  粗钢产量累计增长(%)      2.5      1.3      1.6      4.1      6.1      5.6      -2.1      -1.4      -2.2     -3.4     -5.7     -6.4"
      ]
     },
     "execution_count": 7,
     "metadata": {},
     "output_type": "execute_result"
    }
   ],
   "source": [
    "df1=pd.read_html(data)[0]\n",
    "df1"
   ]
  },
  {
   "cell_type": "code",
   "execution_count": null,
   "id": "408c4c12",
   "metadata": {},
   "outputs": [],
   "source": []
  },
  {
   "cell_type": "markdown",
   "id": "1e8ec361",
   "metadata": {},
   "source": [
    "# 进一步写出遍历框架"
   ]
  },
  {
   "cell_type": "markdown",
   "id": "20629f39",
   "metadata": {},
   "source": [
    "# 融和"
   ]
  },
  {
   "cell_type": "markdown",
   "id": "8aacf1e4",
   "metadata": {},
   "source": [
    "# 保存本地文件"
   ]
  },
  {
   "cell_type": "code",
   "execution_count": 8,
   "id": "fd9dc253",
   "metadata": {},
   "outputs": [],
   "source": [
    "df1.to_excel(r'C:\\Users\\熊俊\\Desktop\\铂熊AI数据库\\统计局\\统计局粗钢数据.xlsx')"
   ]
  },
  {
   "cell_type": "markdown",
   "id": "43f2188b",
   "metadata": {},
   "source": [
    "# 开始进一步解析数据"
   ]
  },
  {
   "cell_type": "markdown",
   "id": "ccd0da97",
   "metadata": {},
   "source": [
    "# 整合框架"
   ]
  },
  {
   "cell_type": "code",
   "execution_count": 9,
   "id": "eedd8d11",
   "metadata": {},
   "outputs": [],
   "source": [
    "browser.quit()"
   ]
  },
  {
   "cell_type": "code",
   "execution_count": null,
   "id": "43a56d88",
   "metadata": {},
   "outputs": [],
   "source": []
  }
 ],
 "metadata": {
  "kernelspec": {
   "display_name": "Python 3 (ipykernel)",
   "language": "python",
   "name": "python3"
  },
  "language_info": {
   "codemirror_mode": {
    "name": "ipython",
    "version": 3
   },
   "file_extension": ".py",
   "mimetype": "text/x-python",
   "name": "python",
   "nbconvert_exporter": "python",
   "pygments_lexer": "ipython3",
   "version": "3.9.13"
  }
 },
 "nbformat": 4,
 "nbformat_minor": 5
}
